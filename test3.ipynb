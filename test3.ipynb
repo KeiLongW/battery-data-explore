{
 "cells": [
  {
   "cell_type": "code",
   "execution_count": 1,
   "metadata": {},
   "outputs": [],
   "source": [
    "import pandas as pd\n",
    "import os\n",
    "from matplotlib import pyplot as plt\n",
    "import numpy as np"
   ]
  },
  {
   "cell_type": "code",
   "execution_count": 2,
   "metadata": {},
   "outputs": [],
   "source": [
    "data_path = '/Users/keilongwong/Library/CloudStorage/OneDrive-個人/IPM PhD/Thesis/Data/Samsung INR21700 30T 3Ah Li-ion Battery Data'\n",
    "# data_path = '/Users/keilongwong/Library/CloudStorage/OneDrive-個人/IPM PhD/Thesis/Data/Multi Temperature Li-ion Battery Data - SB LiMotive 5Ah/Data'\n",
    "# data_path = '/Users/keilongwong/Library/CloudStorage/OneDrive-個人/IPM PhD/Thesis/Data/data from internet/LG 18650HG2 Li-ion Battery Data/LG_HG2_Original_Dataset_McMasterUniversity_Jan_2020'"
   ]
  },
  {
   "cell_type": "code",
   "execution_count": 3,
   "metadata": {},
   "outputs": [
    {
     "name": "stderr",
     "output_type": "stream",
     "text": [
      "/var/folders/h8/8jpw1q2n08b3k_kml79456t40000gn/T/ipykernel_3644/2884266363.py:17: ParserWarning: Length of header or names does not match length of data. This leads to a loss of data with index_col=False.\n",
      "  new_df = pd.read_csv(file_path,\n",
      "/var/folders/h8/8jpw1q2n08b3k_kml79456t40000gn/T/ipykernel_3644/2884266363.py:17: ParserWarning: Length of header or names does not match length of data. This leads to a loss of data with index_col=False.\n",
      "  new_df = pd.read_csv(file_path,\n",
      "/var/folders/h8/8jpw1q2n08b3k_kml79456t40000gn/T/ipykernel_3644/2884266363.py:17: ParserWarning: Length of header or names does not match length of data. This leads to a loss of data with index_col=False.\n",
      "  new_df = pd.read_csv(file_path,\n",
      "/var/folders/h8/8jpw1q2n08b3k_kml79456t40000gn/T/ipykernel_3644/2884266363.py:17: ParserWarning: Length of header or names does not match length of data. This leads to a loss of data with index_col=False.\n",
      "  new_df = pd.read_csv(file_path,\n",
      "/var/folders/h8/8jpw1q2n08b3k_kml79456t40000gn/T/ipykernel_3644/2884266363.py:17: ParserWarning: Length of header or names does not match length of data. This leads to a loss of data with index_col=False.\n",
      "  new_df = pd.read_csv(file_path,\n",
      "/var/folders/h8/8jpw1q2n08b3k_kml79456t40000gn/T/ipykernel_3644/2884266363.py:17: ParserWarning: Length of header or names does not match length of data. This leads to a loss of data with index_col=False.\n",
      "  new_df = pd.read_csv(file_path,\n",
      "/var/folders/h8/8jpw1q2n08b3k_kml79456t40000gn/T/ipykernel_3644/2884266363.py:17: ParserWarning: Length of header or names does not match length of data. This leads to a loss of data with index_col=False.\n",
      "  new_df = pd.read_csv(file_path,\n",
      "/var/folders/h8/8jpw1q2n08b3k_kml79456t40000gn/T/ipykernel_3644/2884266363.py:17: ParserWarning: Length of header or names does not match length of data. This leads to a loss of data with index_col=False.\n",
      "  new_df = pd.read_csv(file_path,\n",
      "/var/folders/h8/8jpw1q2n08b3k_kml79456t40000gn/T/ipykernel_3644/2884266363.py:17: ParserWarning: Length of header or names does not match length of data. This leads to a loss of data with index_col=False.\n",
      "  new_df = pd.read_csv(file_path,\n",
      "/var/folders/h8/8jpw1q2n08b3k_kml79456t40000gn/T/ipykernel_3644/2884266363.py:17: ParserWarning: Length of header or names does not match length of data. This leads to a loss of data with index_col=False.\n",
      "  new_df = pd.read_csv(file_path,\n",
      "/var/folders/h8/8jpw1q2n08b3k_kml79456t40000gn/T/ipykernel_3644/2884266363.py:17: ParserWarning: Length of header or names does not match length of data. This leads to a loss of data with index_col=False.\n",
      "  new_df = pd.read_csv(file_path,\n",
      "/var/folders/h8/8jpw1q2n08b3k_kml79456t40000gn/T/ipykernel_3644/2884266363.py:17: ParserWarning: Length of header or names does not match length of data. This leads to a loss of data with index_col=False.\n",
      "  new_df = pd.read_csv(file_path,\n",
      "/var/folders/h8/8jpw1q2n08b3k_kml79456t40000gn/T/ipykernel_3644/2884266363.py:17: ParserWarning: Length of header or names does not match length of data. This leads to a loss of data with index_col=False.\n",
      "  new_df = pd.read_csv(file_path,\n",
      "/var/folders/h8/8jpw1q2n08b3k_kml79456t40000gn/T/ipykernel_3644/2884266363.py:17: ParserWarning: Length of header or names does not match length of data. This leads to a loss of data with index_col=False.\n",
      "  new_df = pd.read_csv(file_path,\n",
      "/var/folders/h8/8jpw1q2n08b3k_kml79456t40000gn/T/ipykernel_3644/2884266363.py:17: ParserWarning: Length of header or names does not match length of data. This leads to a loss of data with index_col=False.\n",
      "  new_df = pd.read_csv(file_path,\n",
      "/var/folders/h8/8jpw1q2n08b3k_kml79456t40000gn/T/ipykernel_3644/2884266363.py:17: ParserWarning: Length of header or names does not match length of data. This leads to a loss of data with index_col=False.\n",
      "  new_df = pd.read_csv(file_path,\n",
      "/var/folders/h8/8jpw1q2n08b3k_kml79456t40000gn/T/ipykernel_3644/2884266363.py:17: ParserWarning: Length of header or names does not match length of data. This leads to a loss of data with index_col=False.\n",
      "  new_df = pd.read_csv(file_path,\n",
      "/var/folders/h8/8jpw1q2n08b3k_kml79456t40000gn/T/ipykernel_3644/2884266363.py:17: ParserWarning: Length of header or names does not match length of data. This leads to a loss of data with index_col=False.\n",
      "  new_df = pd.read_csv(file_path,\n",
      "/var/folders/h8/8jpw1q2n08b3k_kml79456t40000gn/T/ipykernel_3644/2884266363.py:17: ParserWarning: Length of header or names does not match length of data. This leads to a loss of data with index_col=False.\n",
      "  new_df = pd.read_csv(file_path,\n",
      "/var/folders/h8/8jpw1q2n08b3k_kml79456t40000gn/T/ipykernel_3644/2884266363.py:17: ParserWarning: Length of header or names does not match length of data. This leads to a loss of data with index_col=False.\n",
      "  new_df = pd.read_csv(file_path,\n",
      "/var/folders/h8/8jpw1q2n08b3k_kml79456t40000gn/T/ipykernel_3644/2884266363.py:17: ParserWarning: Length of header or names does not match length of data. This leads to a loss of data with index_col=False.\n",
      "  new_df = pd.read_csv(file_path,\n",
      "/var/folders/h8/8jpw1q2n08b3k_kml79456t40000gn/T/ipykernel_3644/2884266363.py:17: ParserWarning: Length of header or names does not match length of data. This leads to a loss of data with index_col=False.\n",
      "  new_df = pd.read_csv(file_path,\n",
      "/var/folders/h8/8jpw1q2n08b3k_kml79456t40000gn/T/ipykernel_3644/2884266363.py:17: ParserWarning: Length of header or names does not match length of data. This leads to a loss of data with index_col=False.\n",
      "  new_df = pd.read_csv(file_path,\n",
      "/var/folders/h8/8jpw1q2n08b3k_kml79456t40000gn/T/ipykernel_3644/2884266363.py:17: ParserWarning: Length of header or names does not match length of data. This leads to a loss of data with index_col=False.\n",
      "  new_df = pd.read_csv(file_path,\n"
     ]
    }
   ],
   "source": [
    "# loop all csv in data_path and append all rows in one dataframe\n",
    "df = pd.DataFrame()\n",
    "for dir in os.listdir(data_path):\n",
    "    if os.path.isdir(os.path.join(data_path, dir)):\n",
    "        for file in os.listdir(os.path.join(data_path, dir)):\n",
    "            if file.endswith('.csv'):\n",
    "                file_path = os.path.join(data_path, dir, file)\n",
    "                # print(file_path)\n",
    "                time_stamp_line_idx = 0\n",
    "\n",
    "                with open(file_path) as f:\n",
    "                    for i, line in enumerate(f):\n",
    "                        if 'Time Stamp' in line:\n",
    "                            time_stamp_line_idx = i\n",
    "                            break\n",
    "                \n",
    "                new_df = pd.read_csv(file_path, \n",
    "                                     skiprows=time_stamp_line_idx + 2, \n",
    "                                     header=None,\n",
    "                                     index_col=False,\n",
    "                                     names=['Time Stamp',\n",
    "                                            'Step',\n",
    "                                            'Status',\n",
    "                                            'Prog Time',\n",
    "                                            'Step Time',\n",
    "                                            'Cycle',\n",
    "                                            'Cycle Level',\n",
    "                                            'Procedure',\n",
    "                                            'Voltage',\n",
    "                                            'Current',\n",
    "                                            'Temperature',\n",
    "                                            'Capacity',\n",
    "                                            'WhAccu',\n",
    "                                            'Cnt'],\n",
    "                                     )\n",
    "                \n",
    "                new_df['Timestamp'] = pd.to_datetime(new_df['Time Stamp']).apply(lambda x: x.timestamp())\n",
    "                new_df['Exp Temperature'] = dir\n",
    "                new_df['Cycle Name'] = file[:-4]\n",
    "                new_df['Exp Name'] = dir + ': ' + file[:-4]\n",
    "                df = pd.concat([df, new_df])\n",
    "                \n",
    "df = df.reset_index(drop=True)"
   ]
  },
  {
   "cell_type": "code",
   "execution_count": 4,
   "metadata": {},
   "outputs": [],
   "source": [
    "df.sort_values(by=['Timestamp'], inplace=True)\n",
    "df.reset_index(drop=True, inplace=True)"
   ]
  },
  {
   "cell_type": "code",
   "execution_count": 5,
   "metadata": {},
   "outputs": [
    {
     "data": {
      "text/html": [
       "<div>\n",
       "<style scoped>\n",
       "    .dataframe tbody tr th:only-of-type {\n",
       "        vertical-align: middle;\n",
       "    }\n",
       "\n",
       "    .dataframe tbody tr th {\n",
       "        vertical-align: top;\n",
       "    }\n",
       "\n",
       "    .dataframe thead th {\n",
       "        text-align: right;\n",
       "    }\n",
       "</style>\n",
       "<table border=\"1\" class=\"dataframe\">\n",
       "  <thead>\n",
       "    <tr style=\"text-align: right;\">\n",
       "      <th></th>\n",
       "      <th>Time Stamp</th>\n",
       "      <th>Step</th>\n",
       "      <th>Status</th>\n",
       "      <th>Prog Time</th>\n",
       "      <th>Step Time</th>\n",
       "      <th>Cycle</th>\n",
       "      <th>Cycle Level</th>\n",
       "      <th>Procedure</th>\n",
       "      <th>Voltage</th>\n",
       "      <th>Current</th>\n",
       "      <th>Temperature</th>\n",
       "      <th>Capacity</th>\n",
       "      <th>WhAccu</th>\n",
       "      <th>Cnt</th>\n",
       "      <th>Timestamp</th>\n",
       "      <th>Exp Temperature</th>\n",
       "      <th>Cycle Name</th>\n",
       "      <th>Exp Name</th>\n",
       "    </tr>\n",
       "  </thead>\n",
       "  <tbody>\n",
       "    <tr>\n",
       "      <th>0</th>\n",
       "      <td>2/24/2019 5:19:40 PM</td>\n",
       "      <td>24</td>\n",
       "      <td>DCH</td>\n",
       "      <td>39:01:33.780</td>\n",
       "      <td>00:00:59.999</td>\n",
       "      <td>0</td>\n",
       "      <td>0</td>\n",
       "      <td>Samsung30T_NN_Char</td>\n",
       "      <td>4.17335</td>\n",
       "      <td>-0.15069</td>\n",
       "      <td>38.067390</td>\n",
       "      <td>-0.002530</td>\n",
       "      <td>-0.010570</td>\n",
       "      <td>22.0</td>\n",
       "      <td>1.551029e+09</td>\n",
       "      <td>40degC</td>\n",
       "      <td>697_C20DisCh</td>\n",
       "      <td>40degC: 697_C20DisCh</td>\n",
       "    </tr>\n",
       "    <tr>\n",
       "      <th>1</th>\n",
       "      <td>2/24/2019 5:20:40 PM</td>\n",
       "      <td>24</td>\n",
       "      <td>DCH</td>\n",
       "      <td>39:02:33.789</td>\n",
       "      <td>00:02:00.008</td>\n",
       "      <td>0</td>\n",
       "      <td>0</td>\n",
       "      <td>Samsung30T_NN_Char</td>\n",
       "      <td>4.17065</td>\n",
       "      <td>-0.15325</td>\n",
       "      <td>38.172550</td>\n",
       "      <td>-0.005070</td>\n",
       "      <td>-0.021160</td>\n",
       "      <td>22.0</td>\n",
       "      <td>1.551029e+09</td>\n",
       "      <td>40degC</td>\n",
       "      <td>697_C20DisCh</td>\n",
       "      <td>40degC: 697_C20DisCh</td>\n",
       "    </tr>\n",
       "    <tr>\n",
       "      <th>2</th>\n",
       "      <td>2/24/2019 5:21:40 PM</td>\n",
       "      <td>24</td>\n",
       "      <td>DCH</td>\n",
       "      <td>39:03:33.786</td>\n",
       "      <td>00:03:00.005</td>\n",
       "      <td>0</td>\n",
       "      <td>0</td>\n",
       "      <td>Samsung30T_NN_Char</td>\n",
       "      <td>4.16795</td>\n",
       "      <td>-0.15069</td>\n",
       "      <td>38.277710</td>\n",
       "      <td>-0.007610</td>\n",
       "      <td>-0.031740</td>\n",
       "      <td>22.0</td>\n",
       "      <td>1.551029e+09</td>\n",
       "      <td>40degC</td>\n",
       "      <td>697_C20DisCh</td>\n",
       "      <td>40degC: 697_C20DisCh</td>\n",
       "    </tr>\n",
       "    <tr>\n",
       "      <th>3</th>\n",
       "      <td>2/24/2019 5:22:40 PM</td>\n",
       "      <td>24</td>\n",
       "      <td>DCH</td>\n",
       "      <td>39:04:33.790</td>\n",
       "      <td>00:04:00.009</td>\n",
       "      <td>0</td>\n",
       "      <td>0</td>\n",
       "      <td>Samsung30T_NN_Char</td>\n",
       "      <td>4.16542</td>\n",
       "      <td>-0.15069</td>\n",
       "      <td>38.382860</td>\n",
       "      <td>-0.010140</td>\n",
       "      <td>-0.042300</td>\n",
       "      <td>22.0</td>\n",
       "      <td>1.551029e+09</td>\n",
       "      <td>40degC</td>\n",
       "      <td>697_C20DisCh</td>\n",
       "      <td>40degC: 697_C20DisCh</td>\n",
       "    </tr>\n",
       "    <tr>\n",
       "      <th>4</th>\n",
       "      <td>2/24/2019 5:23:40 PM</td>\n",
       "      <td>24</td>\n",
       "      <td>DCH</td>\n",
       "      <td>39:05:33.795</td>\n",
       "      <td>00:05:00.014</td>\n",
       "      <td>0</td>\n",
       "      <td>0</td>\n",
       "      <td>Samsung30T_NN_Char</td>\n",
       "      <td>4.16306</td>\n",
       "      <td>-0.15325</td>\n",
       "      <td>38.382860</td>\n",
       "      <td>-0.012680</td>\n",
       "      <td>-0.052870</td>\n",
       "      <td>22.0</td>\n",
       "      <td>1.551029e+09</td>\n",
       "      <td>40degC</td>\n",
       "      <td>697_C20DisCh</td>\n",
       "      <td>40degC: 697_C20DisCh</td>\n",
       "    </tr>\n",
       "    <tr>\n",
       "      <th>...</th>\n",
       "      <td>...</td>\n",
       "      <td>...</td>\n",
       "      <td>...</td>\n",
       "      <td>...</td>\n",
       "      <td>...</td>\n",
       "      <td>...</td>\n",
       "      <td>...</td>\n",
       "      <td>...</td>\n",
       "      <td>...</td>\n",
       "      <td>...</td>\n",
       "      <td>...</td>\n",
       "      <td>...</td>\n",
       "      <td>...</td>\n",
       "      <td>...</td>\n",
       "      <td>...</td>\n",
       "      <td>...</td>\n",
       "      <td>...</td>\n",
       "      <td>...</td>\n",
       "    </tr>\n",
       "    <tr>\n",
       "      <th>2646569</th>\n",
       "      <td>7/7/2019 5:50:03 PM</td>\n",
       "      <td>81</td>\n",
       "      <td>PAU</td>\n",
       "      <td>24:01:55.504</td>\n",
       "      <td>00:09:59.106</td>\n",
       "      <td>0</td>\n",
       "      <td>0</td>\n",
       "      <td>Samsung30T_CyclesB</td>\n",
       "      <td>4.015039</td>\n",
       "      <td>0.00000</td>\n",
       "      <td>-19.138853</td>\n",
       "      <td>-0.372429</td>\n",
       "      <td>-1.272347</td>\n",
       "      <td>7.0</td>\n",
       "      <td>1.562522e+09</td>\n",
       "      <td>-20degC</td>\n",
       "      <td>879_PausCycl</td>\n",
       "      <td>-20degC: 879_PausCycl</td>\n",
       "    </tr>\n",
       "    <tr>\n",
       "      <th>2646570</th>\n",
       "      <td>7/7/2019 5:50:04 PM</td>\n",
       "      <td>81</td>\n",
       "      <td>PAU</td>\n",
       "      <td>24:01:56.215</td>\n",
       "      <td>00:09:59.817</td>\n",
       "      <td>0</td>\n",
       "      <td>0</td>\n",
       "      <td>Samsung30T_CyclesB</td>\n",
       "      <td>4.015039</td>\n",
       "      <td>0.00000</td>\n",
       "      <td>-19.138853</td>\n",
       "      <td>-0.372429</td>\n",
       "      <td>-1.272347</td>\n",
       "      <td>7.0</td>\n",
       "      <td>1.562522e+09</td>\n",
       "      <td>-20degC</td>\n",
       "      <td>879_PausCycl</td>\n",
       "      <td>-20degC: 879_PausCycl</td>\n",
       "    </tr>\n",
       "    <tr>\n",
       "      <th>2646571</th>\n",
       "      <td>7/7/2019 5:50:04 PM</td>\n",
       "      <td>81</td>\n",
       "      <td>PAU</td>\n",
       "      <td>24:01:56.300</td>\n",
       "      <td>00:09:59.902</td>\n",
       "      <td>0</td>\n",
       "      <td>0</td>\n",
       "      <td>Samsung30T_CyclesB</td>\n",
       "      <td>4.015039</td>\n",
       "      <td>0.00000</td>\n",
       "      <td>-19.138853</td>\n",
       "      <td>-0.372429</td>\n",
       "      <td>-1.272347</td>\n",
       "      <td>7.0</td>\n",
       "      <td>1.562522e+09</td>\n",
       "      <td>-20degC</td>\n",
       "      <td>879_PausCycl</td>\n",
       "      <td>-20degC: 879_PausCycl</td>\n",
       "    </tr>\n",
       "    <tr>\n",
       "      <th>2646572</th>\n",
       "      <td>7/7/2019 5:50:04 PM</td>\n",
       "      <td>81</td>\n",
       "      <td>PAU</td>\n",
       "      <td>24:01:56.403</td>\n",
       "      <td>00:10:00.005</td>\n",
       "      <td>0</td>\n",
       "      <td>0</td>\n",
       "      <td>Samsung30T_CyclesB</td>\n",
       "      <td>4.015039</td>\n",
       "      <td>0.00000</td>\n",
       "      <td>-19.138853</td>\n",
       "      <td>-0.372429</td>\n",
       "      <td>-1.272347</td>\n",
       "      <td>7.0</td>\n",
       "      <td>1.562522e+09</td>\n",
       "      <td>-20degC</td>\n",
       "      <td>879_PausCycl</td>\n",
       "      <td>-20degC: 879_PausCycl</td>\n",
       "    </tr>\n",
       "    <tr>\n",
       "      <th>2646573</th>\n",
       "      <td>7/7/2019 5:50:04 PM</td>\n",
       "      <td>81</td>\n",
       "      <td>PAU</td>\n",
       "      <td>24:01:56.403</td>\n",
       "      <td>00:10:00.005</td>\n",
       "      <td>0</td>\n",
       "      <td>0</td>\n",
       "      <td>Samsung30T_CyclesB</td>\n",
       "      <td>4.015039</td>\n",
       "      <td>0.00000</td>\n",
       "      <td>-19.138853</td>\n",
       "      <td>-0.372429</td>\n",
       "      <td>-1.272347</td>\n",
       "      <td>7.0</td>\n",
       "      <td>1.562522e+09</td>\n",
       "      <td>-20degC</td>\n",
       "      <td>879_PausCycl</td>\n",
       "      <td>-20degC: 879_PausCycl</td>\n",
       "    </tr>\n",
       "  </tbody>\n",
       "</table>\n",
       "<p>2646574 rows × 18 columns</p>\n",
       "</div>"
      ],
      "text/plain": [
       "                   Time Stamp  Step Status     Prog Time     Step Time  Cycle  \\\n",
       "0        2/24/2019 5:19:40 PM    24    DCH  39:01:33.780  00:00:59.999      0   \n",
       "1        2/24/2019 5:20:40 PM    24    DCH  39:02:33.789  00:02:00.008      0   \n",
       "2        2/24/2019 5:21:40 PM    24    DCH  39:03:33.786  00:03:00.005      0   \n",
       "3        2/24/2019 5:22:40 PM    24    DCH  39:04:33.790  00:04:00.009      0   \n",
       "4        2/24/2019 5:23:40 PM    24    DCH  39:05:33.795  00:05:00.014      0   \n",
       "...                       ...   ...    ...           ...           ...    ...   \n",
       "2646569   7/7/2019 5:50:03 PM    81    PAU  24:01:55.504  00:09:59.106      0   \n",
       "2646570   7/7/2019 5:50:04 PM    81    PAU  24:01:56.215  00:09:59.817      0   \n",
       "2646571   7/7/2019 5:50:04 PM    81    PAU  24:01:56.300  00:09:59.902      0   \n",
       "2646572   7/7/2019 5:50:04 PM    81    PAU  24:01:56.403  00:10:00.005      0   \n",
       "2646573   7/7/2019 5:50:04 PM    81    PAU  24:01:56.403  00:10:00.005      0   \n",
       "\n",
       "         Cycle Level           Procedure   Voltage  Current  Temperature  \\\n",
       "0                  0  Samsung30T_NN_Char   4.17335 -0.15069    38.067390   \n",
       "1                  0  Samsung30T_NN_Char   4.17065 -0.15325    38.172550   \n",
       "2                  0  Samsung30T_NN_Char   4.16795 -0.15069    38.277710   \n",
       "3                  0  Samsung30T_NN_Char   4.16542 -0.15069    38.382860   \n",
       "4                  0  Samsung30T_NN_Char   4.16306 -0.15325    38.382860   \n",
       "...              ...                 ...       ...      ...          ...   \n",
       "2646569            0  Samsung30T_CyclesB  4.015039  0.00000   -19.138853   \n",
       "2646570            0  Samsung30T_CyclesB  4.015039  0.00000   -19.138853   \n",
       "2646571            0  Samsung30T_CyclesB  4.015039  0.00000   -19.138853   \n",
       "2646572            0  Samsung30T_CyclesB  4.015039  0.00000   -19.138853   \n",
       "2646573            0  Samsung30T_CyclesB  4.015039  0.00000   -19.138853   \n",
       "\n",
       "         Capacity    WhAccu   Cnt     Timestamp Exp Temperature    Cycle Name  \\\n",
       "0       -0.002530 -0.010570  22.0  1.551029e+09          40degC  697_C20DisCh   \n",
       "1       -0.005070 -0.021160  22.0  1.551029e+09          40degC  697_C20DisCh   \n",
       "2       -0.007610 -0.031740  22.0  1.551029e+09          40degC  697_C20DisCh   \n",
       "3       -0.010140 -0.042300  22.0  1.551029e+09          40degC  697_C20DisCh   \n",
       "4       -0.012680 -0.052870  22.0  1.551029e+09          40degC  697_C20DisCh   \n",
       "...           ...       ...   ...           ...             ...           ...   \n",
       "2646569 -0.372429 -1.272347   7.0  1.562522e+09         -20degC  879_PausCycl   \n",
       "2646570 -0.372429 -1.272347   7.0  1.562522e+09         -20degC  879_PausCycl   \n",
       "2646571 -0.372429 -1.272347   7.0  1.562522e+09         -20degC  879_PausCycl   \n",
       "2646572 -0.372429 -1.272347   7.0  1.562522e+09         -20degC  879_PausCycl   \n",
       "2646573 -0.372429 -1.272347   7.0  1.562522e+09         -20degC  879_PausCycl   \n",
       "\n",
       "                      Exp Name  \n",
       "0         40degC: 697_C20DisCh  \n",
       "1         40degC: 697_C20DisCh  \n",
       "2         40degC: 697_C20DisCh  \n",
       "3         40degC: 697_C20DisCh  \n",
       "4         40degC: 697_C20DisCh  \n",
       "...                        ...  \n",
       "2646569  -20degC: 879_PausCycl  \n",
       "2646570  -20degC: 879_PausCycl  \n",
       "2646571  -20degC: 879_PausCycl  \n",
       "2646572  -20degC: 879_PausCycl  \n",
       "2646573  -20degC: 879_PausCycl  \n",
       "\n",
       "[2646574 rows x 18 columns]"
      ]
     },
     "execution_count": 5,
     "metadata": {},
     "output_type": "execute_result"
    }
   ],
   "source": [
    "df"
   ]
  },
  {
   "cell_type": "code",
   "execution_count": 6,
   "metadata": {},
   "outputs": [],
   "source": [
    "# plt.plot(df[df['Exp Name'] == '40degC: 722_Mixed4']['Capacity'])"
   ]
  },
  {
   "cell_type": "code",
   "execution_count": 7,
   "metadata": {},
   "outputs": [],
   "source": [
    "stats = []\n",
    "for key, group in df.groupby('Exp Name'):\n",
    "  stats.append((group['Timestamp'].iloc[0], group['Exp Name'].iloc[0]))\n",
    "stats = pd.DataFrame(stats, columns=['Timestamp', 'Exp Name'])\n",
    "stats.sort_values(by=['Timestamp'], inplace=True)\n",
    "stats.to_csv('stats.csv', index=False)"
   ]
  },
  {
   "cell_type": "code",
   "execution_count": 8,
   "metadata": {},
   "outputs": [
    {
     "name": "stderr",
     "output_type": "stream",
     "text": [
      "/var/folders/h8/8jpw1q2n08b3k_kml79456t40000gn/T/ipykernel_3644/1341328728.py:11: FutureWarning: In a future version of pandas, a length 1 tuple will be returned when iterating over a groupby with a grouper equal to a list of length 1. Don't supply a list with a single grouper to avoid this warning.\n",
      "  for key, group in df.groupby(['Exp Name'], sort=False):\n"
     ]
    }
   ],
   "source": [
    "color_code = {\n",
    "  '40degC': 0,\n",
    "  '25degC': 1,\n",
    "  '10degC': 2,\n",
    "  '0degC': 3,\n",
    "  '-10degC': 4,\n",
    "  '-20degC': 5\n",
    "}\n",
    "\n",
    "caps = []\n",
    "for key, group in df.groupby(['Exp Name'], sort=False):\n",
    "    # if ('1C' not in key) and ('Charge' not in key) and ('0p5c' not in key) and ('2C' not in key):\n",
    "    #     continue\n",
    "    if 'Charge' not in key:\n",
    "        continue\n",
    "    cap_max = group['Capacity'].abs().max()\n",
    "    cap_total_trapz = abs(np.trapz(group['Current'].values, group['Timestamp'].values) / 3600)\n",
    "    if cap_total_trapz < 1 or cap_total_trapz > 5:\n",
    "        continue\n",
    "    caps.append((group['Timestamp'].iloc[0], cap_max, cap_total_trapz, color_code[group['Exp Temperature'].iloc[0]]))\n",
    "caps = np.array(caps)"
   ]
  },
  {
   "cell_type": "code",
   "execution_count": 9,
   "metadata": {},
   "outputs": [
    {
     "data": {
      "image/png": "[encoded data removed]",
      "text/plain": [
       "<Figure size 432x288 with 1 Axes>"
      ]
     },
     "metadata": {
      "needs_background": "light"
     },
     "output_type": "display_data"
    }
   ],
   "source": [
    "colors = {\n",
    "  0: 'red',\n",
    "  1: 'green',\n",
    "  2: 'yellow',\n",
    "  3: 'blue',\n",
    "  4: 'purple',\n",
    "  5: 'orange'\n",
    "}\n",
    "\n",
    "sort_caps = caps[caps[:, 0].argsort()]\n",
    "\n",
    "for i, cap in enumerate(sort_caps):\n",
    "    plt.scatter(i, cap[1], color=colors[cap[3]])\n",
    "# plt.scatter(range(len(sort_caps)), sort_caps[:, 2])"
   ]
  },
  {
   "cell_type": "code",
   "execution_count": 10,
   "metadata": {},
   "outputs": [
    {
     "data": {
      "text/plain": [
       "[<matplotlib.lines.Line2D at 0x1628f5ee0>]"
      ]
     },
     "execution_count": 10,
     "metadata": {},
     "output_type": "execute_result"
    },
    {
     "data": {
      "image/png": "[encoded data removed]",
      "text/plain": [
       "<Figure size 432x288 with 1 Axes>"
      ]
     },
     "metadata": {
      "needs_background": "light"
     },
     "output_type": "display_data"
    }
   ],
   "source": [
    "data_plot = df[df['Cycle Name'] == '752_UDDS']\n",
    "\n",
    "plt.plot(data_plot['Current'])"
   ]
  },
  {
   "cell_type": "code",
   "execution_count": 11,
   "metadata": {},
   "outputs": [
    {
     "data": {
      "text/plain": [
       "[<matplotlib.lines.Line2D at 0x162968610>]"
      ]
     },
     "execution_count": 11,
     "metadata": {},
     "output_type": "execute_result"
    },
    {
     "data": {
      "image/png": "[encoded data removed]",
      "text/plain": [
       "<Figure size 432x288 with 1 Axes>"
      ]
     },
     "metadata": {
      "needs_background": "light"
     },
     "output_type": "display_data"
    }
   ],
   "source": [
    "data_plot = df[df['Cycle Name'] == '752_UDDS']\n",
    "\n",
    "plt.plot(data_plot['Capacity'])"
   ]
  },
  {
   "cell_type": "code",
   "execution_count": 12,
   "metadata": {},
   "outputs": [
    {
     "data": {
      "text/plain": [
       "[<matplotlib.lines.Line2D at 0x1629c4340>]"
      ]
     },
     "execution_count": 12,
     "metadata": {},
     "output_type": "execute_result"
    },
    {
     "data": {
      "image/png": "[encoded data removed]",
      "text/plain": [
       "<Figure size 432x288 with 1 Axes>"
      ]
     },
     "metadata": {
      "needs_background": "light"
     },
     "output_type": "display_data"
    }
   ],
   "source": [
    "data_plot = df[df['Cycle Name'] == '752_HWFET']\n",
    "\n",
    "plt.plot(data_plot['Current'])"
   ]
  },
  {
   "cell_type": "code",
   "execution_count": 13,
   "metadata": {},
   "outputs": [
    {
     "data": {
      "text/plain": [
       "[<matplotlib.lines.Line2D at 0x162a18b20>]"
      ]
     },
     "execution_count": 13,
     "metadata": {},
     "output_type": "execute_result"
    },
    {
     "data": {
      "image/png": "[encoded data removed]",
      "text/plain": [
       "<Figure size 432x288 with 1 Axes>"
      ]
     },
     "metadata": {
      "needs_background": "light"
     },
     "output_type": "display_data"
    }
   ],
   "source": [
    "data_plot = df[df['Cycle Name'] == '752_HWFET']\n",
    "\n",
    "plt.plot(data_plot['Capacity'])"
   ]
  },
  {
   "cell_type": "code",
   "execution_count": 14,
   "metadata": {},
   "outputs": [
    {
     "data": {
      "text/plain": [
       "[<matplotlib.lines.Line2D at 0x162a78310>]"
      ]
     },
     "execution_count": 14,
     "metadata": {},
     "output_type": "execute_result"
    },
    {
     "data": {
      "image/png": "[encoded data removed]",
      "text/plain": [
       "<Figure size 432x288 with 1 Axes>"
      ]
     },
     "metadata": {
      "needs_background": "light"
     },
     "output_type": "display_data"
    }
   ],
   "source": [
    "data_plot = df[df['Cycle Name'] == '752_HWFET']\n",
    "\n",
    "plt.plot(data_plot['Temperature'])"
   ]
  }
 ],
 "metadata": {
  "kernelspec": {
   "display_name": "base",
   "language": "python",
   "name": "python3"
  },
  "language_info": {
   "codemirror_mode": {
    "name": "ipython",
    "version": 3
   },
   "file_extension": ".py",
   "mimetype": "text/x-python",
   "name": "python",
   "nbconvert_exporter": "python",
   "pygments_lexer": "ipython3",
   "version": "3.9.2"
  }
 },
 "nbformat": 4,
 "nbformat_minor": 2
}
